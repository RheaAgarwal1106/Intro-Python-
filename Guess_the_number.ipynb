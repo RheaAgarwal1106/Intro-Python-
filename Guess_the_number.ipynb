{
  "nbformat": 4,
  "nbformat_minor": 0,
  "metadata": {
    "colab": {
      "name": "Guess the number.ipynb",
      "provenance": [],
      "collapsed_sections": []
    },
    "kernelspec": {
      "name": "python3",
      "display_name": "Python 3"
    }
  },
  "cells": [
    {
      "cell_type": "code",
      "metadata": {
        "colab": {
          "base_uri": "https://localhost:8080/"
        },
        "id": "etpUdd2G3vbW",
        "outputId": "be90e11f-1057-4b8e-92f4-0ce121568c9c"
      },
      "source": [
        "#Python code for number guessing game\n",
        "import random\n",
        "import math \n",
        "\n",
        "#Taking inputs\n",
        "lower= int(input('Enter a lower bound:'))\n",
        "upper=int(input('Enter an upper bound:'))\n",
        "\n",
        "#Calculating number of guesses\n",
        "guess= round(math.log(upper-lower+1 ,2))\n",
        "\n",
        "#Generating a number between upper and lower number\n",
        "x= random.randint(lower, upper)\n",
        "\n",
        "print('\\n\\t You have only ' + str(guess)+ ' chances to guess the integer! \\n')\n",
        "count=0\n",
        "while count<guess:\n",
        "  count=count+1\n",
        "  choose= int(input('Guess a number:'))\n",
        "  if x==choose:\n",
        "    print('Coungratulations, you did it in '+ str(count) + ' try')\n",
        "    break\n",
        "\n",
        "     \n",
        "  elif x<choose:\n",
        "    print('You guessed too high!')  \n",
        "  elif x>choose:\n",
        "    print('You guessed too low!') \n",
        "\n",
        "#When count> guess\n",
        "if count>= guess:\n",
        "  print('\\n\\t The number is %d' %x)\n",
        "  print('\\n\\t Better luck next time!')\n",
        "\n",
        "\n"
      ],
      "execution_count": null,
      "outputs": [
        {
          "output_type": "stream",
          "text": [
            "Enter a lower bound:1\n",
            "Enter an upper bound:3\n",
            "\n",
            "\t You have only 2 chances to guess the integer! \n",
            "\n",
            "Guess a number:2\n",
            "You guessed too high!\n",
            "Guess a number:1\n",
            "Coungratulations, you did it in 2try\n",
            "\n",
            "\t The number is 1\n",
            "\n",
            "\t Better luck next time!\n"
          ],
          "name": "stdout"
        }
      ]
    }
  ]
}