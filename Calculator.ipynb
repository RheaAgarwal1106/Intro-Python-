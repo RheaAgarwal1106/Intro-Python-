{
  "nbformat": 4,
  "nbformat_minor": 0,
  "metadata": {
    "colab": {
      "name": "Calculator.ipynb",
      "provenance": [],
      "collapsed_sections": []
    },
    "kernelspec": {
      "name": "python3",
      "display_name": "Python 3"
    }
  },
  "cells": [
    {
      "cell_type": "code",
      "metadata": {
        "colab": {
          "base_uri": "https://localhost:8080/"
        },
        "id": "ZNhF4kY0kvNj",
        "outputId": "23d4986b-d226-4509-e498-1fc4f03075f3"
      },
      "source": [
        "#Python code for a simple calculator\n",
        "#to add 2 numbers\n",
        "def add(numbers_1, numbers_2):\n",
        "  return(numbers_1+numbers_2)\n",
        "#to subtarct two numbers\n",
        "def subtract(numbers_1, numbers_2):\n",
        "  return(numbers_1-numbers_2)  \n",
        "#to multiply two numbers\n",
        "def multiply(numbers_1, numbers_2):\n",
        "  return(numbers_1*numbers_2) \n",
        "#to divide two numbers\n",
        "def divide(numbers_1, numbers_2):\n",
        "  return(numbers_1/numbers_2)\n",
        "print('Please select the following operations-\\n'   \n",
        "       '1. Add \\n' \n",
        "       '2. Subtract \\n' \n",
        "       '3. Multiply \\n' \n",
        "       '4. Divide \\n' )\n",
        "#Take input from the user\n",
        "select =int(input(\"Select operations form 1, 2, 3, 4 :\"))\n",
        "number_1= float(input('Enter first number:'))\n",
        "number_2= float(input('Enter second number:'))\n",
        "if select == 1: \n",
        "    print(number_1, \"+\", number_2, \"=\", \n",
        "                    add(number_1, number_2)) \n",
        "  \n",
        "elif select == 2: \n",
        "    print(number_1, \"-\", number_2, \"=\", \n",
        "                    subtract(number_1, number_2)) \n",
        "  \n",
        "elif select == 3: \n",
        "    print(number_1, \"*\", number_2, \"=\", \n",
        "                    multiply(number_1, number_2)) \n",
        "  \n",
        "elif select == 4: \n",
        "    print(number_1, \"/\", number_2, \"=\", \n",
        "                    divide(number_1, number_2)) \n",
        "else: \n",
        "    print(\"Invalid input\") "
      ],
      "execution_count": null,
      "outputs": [
        {
          "output_type": "stream",
          "text": [
            "Please select the following operations-\n",
            "1. Add \n",
            "2. Subtract \n",
            "3. Multiply \n",
            "4. Divide \n",
            "\n",
            "Select operations form 1, 2, 3, 4 :4\n",
            "Enter first number:98282\n",
            "Enter second number:56.9\n",
            "98282.0 / 56.9 = 1727.2759226713533\n"
          ],
          "name": "stdout"
        }
      ]
    }
  ]
}