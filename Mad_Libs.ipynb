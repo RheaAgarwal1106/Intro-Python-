{
  "nbformat": 4,
  "nbformat_minor": 0,
  "metadata": {
    "colab": {
      "name": "Mad_Libs.ipynb",
      "provenance": [],
      "collapsed_sections": []
    },
    "kernelspec": {
      "name": "python3",
      "display_name": "Python 3"
    }
  },
  "cells": [
    {
      "cell_type": "code",
      "metadata": {
        "colab": {
          "base_uri": "https://localhost:8080/"
        },
        "id": "rq2-qNz7YHTb",
        "outputId": "cbd941e2-f2e1-48bf-ae90-9b3d7697a82f"
      },
      "source": [
        "\n",
        "\n",
        "#Python Code for Mad Libs\n",
        "Noun_1=input('Enter a noun:')\n",
        "Wacky_Place=input('Enter a wacky place:')\n",
        "Verb_1=input('Enter a verb(past tense):')\n",
        "Noun_2=input('Enter a noun:')\n",
        "Proper_Name=input('Enter a proper name:')\n",
        "Verb_2=input('Enter a verb:')\n",
        "Noun_3=input('Enter a noun:')\n",
        "Verb_3=input('Enter a verb:')\n",
        "Noun_4=input('Enter a noun:')\n",
        "Part_of_Body=input('Enter a part of body:')\n",
        "Adjective_1=input('Enter an adjective:')\n",
        "Relative=input('Enter a relative:')\n",
        "Activity=input('Enter a activity:')\n",
        "Wacky_Place_2=input('Enter a wacky place:')\n",
        "Verb_4_Past_tense=input('Enter a verb (past tense):')\n",
        "Month=input('Enter a month:')\n",
        "Verb_5=input('Enter a verb:')\n",
        "Noun_5=input('Enter a noun:')\n",
        "Verb_6_Past_Tense=input('Enter a verb (past tense):')\n",
        "Adjective_2=input('Enter an adjective:')\n",
        "Verb_7=input('Enter a verb:')\n",
        "Noun_6=input('Enter a noun:')\n",
        "Plural_Noun=input('Enter a plural noun:')\n",
        "\n",
        "#MadLibs Story\n",
        "print('A ' + Noun_1 + ' in ' + Wacky_Place + ' was arrested this morning after he ' +Verb_1+ ' in front of ' + Noun_2 + '.')\n",
        "print(Proper_Name+' had a history '+ Verb_2+ ' , but no one, not even his '+ Noun_3+ ' ever imagined he would ' +Verb_3 + ' with a '+ Noun_4+\n",
        "      'stuck in his '+Part_of_Body+'.')\n",
        "print('I always thought he was '+ Adjective_1+' , but I never thought he would do something like this. Even his '+ Relative+' was surprised.')\n",
        "print('After a brief '+ Activity+' , cops followed him to a '+ Wacky_Place_2+' , where he reportedly '+ Verb_4_Past_tense+' in the fry machine.')\n",
        "print('In '+ Month+' , a woman was charged with a similar crime. But rather than '+ Verb_5+' with a'+ Noun_5+' , she '+ Verb_6_Past_Tense+\n",
        "      ' with a '+ Adjective_2+' dog.')\n",
        "print('Either way, we imagined that after witnessing him '+ Verb_7 +' with a '+ Noun_6+' there are probably a whole lot of '+ Plural_Noun+\n",
        "      ' that are going to need some therapy. ')\n",
        "\n"
      ],
      "execution_count": null,
      "outputs": [
        {
          "output_type": "stream",
          "text": [
            "Enter a noun:table\n",
            "Enter a wacky place:pizza hut\n",
            "Enter a verb(past tense):eat\n",
            "Enter a noun:chair\n",
            "Enter a proper name:rhea\n",
            "Enter a verb:sleep\n",
            "Enter a noun:pen\n",
            "Enter a verb:write\n",
            "Enter a noun:dhruv\n",
            "Enter a part of body:hands\n",
            "Enter an adjective:good\n",
            "Enter a relative:papa\n",
            "Enter a activity:play\n",
            "Enter a wacky place:mcdonalds\n",
            "Enter a verb (past tense):celebrated\n",
            "Enter a month:january\n",
            "Enter a verb:cook\n",
            "Enter a noun:yavnica\n",
            "Enter a verb (past tense):wrote\n",
            "Enter an adjective:better\n",
            "Enter a verb:drive\n",
            "Enter a noun:geeta\n",
            "Enter a plural noun:police\n",
            "A table in pizza hut was arrested this morning after he eat in front of chair.\n",
            "rhea had a history sleep , but no one, not even his pen ever imagined he would write with a dhruvstuck in his hands.\n",
            "I always thought he was good , but I never thought he would do something like this. Even his papa was surprised.\n",
            "After a brief play , cops followed him to a mcdonalds , where he reportedly celebrated in the fry machine.\n",
            "In january , a woman was charged with a similar crime. But rather than cook with ayavnica , she wrote with a better dog.\n",
            "Either way, we imagined that after witnessing him drive with a geeta there are probably a whole lot of police that are going to need some therapy. \n"
          ],
          "name": "stdout"
        }
      ]
    }
  ]
}